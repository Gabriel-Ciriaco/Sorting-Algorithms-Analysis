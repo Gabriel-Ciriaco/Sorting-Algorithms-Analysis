{
 "cells": [
  {
   "cell_type": "markdown",
   "id": "3fc44074",
   "metadata": {},
   "source": [
    "# Importando bibliotecas"
   ]
  },
  {
   "cell_type": "code",
   "execution_count": null,
   "id": "deedd16f",
   "metadata": {},
   "outputs": [],
   "source": [
    "import pandas as pd\n",
    "import numpy as np\n",
    "import matplotlib.pyplot as plt\n",
    "\n",
    "from sorting_algorithms import Sorting_Algorithms"
   ]
  },
  {
   "cell_type": "code",
   "execution_count": null,
   "id": "f49dbb94",
   "metadata": {},
   "outputs": [
    {
     "data": {
      "text/html": [
       "<div>\n",
       "<style scoped>\n",
       "    .dataframe tbody tr th:only-of-type {\n",
       "        vertical-align: middle;\n",
       "    }\n",
       "\n",
       "    .dataframe tbody tr th {\n",
       "        vertical-align: top;\n",
       "    }\n",
       "\n",
       "    .dataframe thead th {\n",
       "        text-align: right;\n",
       "    }\n",
       "</style>\n",
       "<table border=\"1\" class=\"dataframe\">\n",
       "  <thead>\n",
       "    <tr style=\"text-align: right;\">\n",
       "      <th></th>\n",
       "      <th>Algoritmo</th>\n",
       "      <th>NumeroEntradas</th>\n",
       "      <th>Tempo</th>\n",
       "      <th>TipoEntrada</th>\n",
       "    </tr>\n",
       "  </thead>\n",
       "  <tbody>\n",
       "    <tr>\n",
       "      <th>0</th>\n",
       "      <td>BubbleSort1</td>\n",
       "      <td>1</td>\n",
       "      <td>0.000004</td>\n",
       "      <td>Aleatória</td>\n",
       "    </tr>\n",
       "    <tr>\n",
       "      <th>1</th>\n",
       "      <td>BubbleSort1</td>\n",
       "      <td>2</td>\n",
       "      <td>0.000002</td>\n",
       "      <td>Aleatória</td>\n",
       "    </tr>\n",
       "    <tr>\n",
       "      <th>2</th>\n",
       "      <td>BubbleSort1</td>\n",
       "      <td>3</td>\n",
       "      <td>0.000002</td>\n",
       "      <td>Aleatória</td>\n",
       "    </tr>\n",
       "    <tr>\n",
       "      <th>3</th>\n",
       "      <td>BubbleSort1</td>\n",
       "      <td>4</td>\n",
       "      <td>0.000001</td>\n",
       "      <td>Aleatória</td>\n",
       "    </tr>\n",
       "    <tr>\n",
       "      <th>4</th>\n",
       "      <td>BubbleSort1</td>\n",
       "      <td>6</td>\n",
       "      <td>0.000002</td>\n",
       "      <td>Aleatória</td>\n",
       "    </tr>\n",
       "    <tr>\n",
       "      <th>...</th>\n",
       "      <td>...</td>\n",
       "      <td>...</td>\n",
       "      <td>...</td>\n",
       "      <td>...</td>\n",
       "    </tr>\n",
       "    <tr>\n",
       "      <th>1035</th>\n",
       "      <td>BubbleSort20</td>\n",
       "      <td>96304</td>\n",
       "      <td>12.431542</td>\n",
       "      <td>Aleatória</td>\n",
       "    </tr>\n",
       "    <tr>\n",
       "      <th>1036</th>\n",
       "      <td>BubbleSort20</td>\n",
       "      <td>115609</td>\n",
       "      <td>18.201132</td>\n",
       "      <td>Aleatória</td>\n",
       "    </tr>\n",
       "    <tr>\n",
       "      <th>1037</th>\n",
       "      <td>BubbleSort20</td>\n",
       "      <td>138784</td>\n",
       "      <td>26.274318</td>\n",
       "      <td>Aleatória</td>\n",
       "    </tr>\n",
       "    <tr>\n",
       "      <th>1038</th>\n",
       "      <td>BubbleSort20</td>\n",
       "      <td>166604</td>\n",
       "      <td>38.121281</td>\n",
       "      <td>Aleatória</td>\n",
       "    </tr>\n",
       "    <tr>\n",
       "      <th>1039</th>\n",
       "      <td>BubbleSort20</td>\n",
       "      <td>200000</td>\n",
       "      <td>55.803234</td>\n",
       "      <td>Aleatória</td>\n",
       "    </tr>\n",
       "  </tbody>\n",
       "</table>\n",
       "<p>1040 rows × 4 columns</p>\n",
       "</div>"
      ],
      "text/plain": [
       "         Algoritmo  NumeroEntradas      Tempo TipoEntrada\n",
       "0      BubbleSort1               1   0.000004   Aleatória\n",
       "1      BubbleSort1               2   0.000002   Aleatória\n",
       "2      BubbleSort1               3   0.000002   Aleatória\n",
       "3      BubbleSort1               4   0.000001   Aleatória\n",
       "4      BubbleSort1               6   0.000002   Aleatória\n",
       "...            ...             ...        ...         ...\n",
       "1035  BubbleSort20           96304  12.431542   Aleatória\n",
       "1036  BubbleSort20          115609  18.201132   Aleatória\n",
       "1037  BubbleSort20          138784  26.274318   Aleatória\n",
       "1038  BubbleSort20          166604  38.121281   Aleatória\n",
       "1039  BubbleSort20          200000  55.803234   Aleatória\n",
       "\n",
       "[1040 rows x 4 columns]"
      ]
     },
     "execution_count": 105,
     "metadata": {},
     "output_type": "execute_result"
    }
   ],
   "source": [
    "df = pd.read_csv(\"../testes_ordenacao.csv\")\n",
    "df"
   ]
  },
  {
   "cell_type": "markdown",
   "id": "2c01d688",
   "metadata": {},
   "source": [
    "# Testando o Algoritmo"
   ]
  },
  {
   "cell_type": "markdown",
   "id": "4c055147",
   "metadata": {},
   "source": [
    "## Criar Sequência Númerica"
   ]
  },
  {
   "cell_type": "code",
   "execution_count": null,
   "id": "0f258aeb",
   "metadata": {},
   "outputs": [],
   "source": [
    "import math\n",
    "\n",
    "\n",
    "def gerar_tamanhos_entrada_log_exp(max_log=1000, max_exp=10**6, num_log=30, num_exp=30):\n",
    "    \"\"\"\n",
    "    Gera uma sequência de tamanhos de entrada para análise de desempenho de algoritmos.\n",
    "\n",
    "    A sequência tem duas partes:\n",
    "    - Crescimento logarítmico (num_log pontos) entre 1 e max_log\n",
    "    - Crescimento exponencial (num_exp pontos) entre max_log e max_exp\n",
    "\n",
    "    Os tamanhos são salvos num arquivo binário \"tamanhos_entrada_log_exp.bin\".\n",
    "\n",
    "    Parâmetros:\n",
    "        max_log (int): limite superior da parte logarítmica\n",
    "        max_exp (int): tamanho máximo (último valor será exatamente max_exp)\n",
    "        num_log (int): número de pontos na faixa logarítmica\n",
    "        num_exp (int): número de pontos na faixa exponencial\n",
    "    \"\"\"\n",
    "\n",
    "    # --- Crescimento logarítmico ---\n",
    "    log_values = []\n",
    "    for i in range(num_log):\n",
    "        # interpolação logarítmica de 1 até max_log\n",
    "        val = round(math.exp(math.log(1) + (math.log(max_log) - math.log(1)) * i / (num_log - 1)))\n",
    "        log_values.append(max(1, val))  # garante mínimo 1\n",
    "\n",
    "    # --- Crescimento exponencial ---\n",
    "    exp_values = []\n",
    "    base = (max_exp / max_log) ** (1 / (num_exp - 1))\n",
    "    for i in range(num_exp):\n",
    "        val = round(max_log * (base ** i))\n",
    "        exp_values.append(val)\n",
    "    exp_values[-1] = max_exp  # garante o último valor exato\n",
    "\n",
    "    # --- Combina e remove duplicatas ---\n",
    "    return sorted(set(log_values + exp_values))"
   ]
  },
  {
   "cell_type": "code",
   "execution_count": null,
   "id": "67d1dec5",
   "metadata": {},
   "outputs": [
    {
     "name": "stdout",
     "output_type": "stream",
     "text": [
      "[1, 2, 3, 4, 6, 7, 10, 13, 18, 24, 32, 42, 56, 75, 100, 133, 178, 237, 316, 422, 562, 750, 1000, 1200, 1441, 1730, 2077, 2493, 2993, 3593, 4313, 5177, 6215, 7461, 8957, 10752, 12907, 15495, 18601, 22330, 26806, 32179, 38629, 46373, 55668, 66827, 80223, 96304, 115609, 138784, 166604, 200000]\n"
     ]
    }
   ],
   "source": [
    "sequencia = gerar_tamanhos_entrada_log_exp(max_log=1000,max_exp=2*(10**5), num_log=25, num_exp=30)\n",
    "print(sequencia)"
   ]
  },
  {
   "cell_type": "markdown",
   "id": "d34b29bc",
   "metadata": {},
   "source": [
    "## Carregando o Algoritmo"
   ]
  },
  {
   "cell_type": "code",
   "execution_count": null,
   "id": "d8d99f12",
   "metadata": {},
   "outputs": [
    {
     "ename": "NameError",
     "evalue": "name 'Sorting_Algorithms' is not defined",
     "output_type": "error",
     "traceback": [
      "\u001b[31m---------------------------------------------------------------------------\u001b[39m",
      "\u001b[31mNameError\u001b[39m                                 Traceback (most recent call last)",
      "\u001b[36mCell\u001b[39m\u001b[36m \u001b[39m\u001b[32mIn[1]\u001b[39m\u001b[32m, line 5\u001b[39m\n\u001b[32m      1\u001b[39m \u001b[38;5;28;01mimport\u001b[39;00m\u001b[38;5;250m \u001b[39m\u001b[34;01mos\u001b[39;00m\n\u001b[32m      4\u001b[39m dir_dll_path = os.path.join(os.getcwd(), \u001b[33m'\u001b[39m\u001b[33mC_Algorithms_Library.dll\u001b[39m\u001b[33m'\u001b[39m)\n\u001b[32m----> \u001b[39m\u001b[32m5\u001b[39m alg = \u001b[43mSorting_Algorithms\u001b[49m(dir_dll_path)\n",
      "\u001b[31mNameError\u001b[39m: name 'Sorting_Algorithms' is not defined"
     ]
    }
   ],
   "source": [
    "import os\n",
    "\n",
    "\n",
    "dir_dll_path = os.path.join(os.getcwd(), 'C_Algorithms_Library.dll')\n",
    "alg = Sorting_Algorithms(dir_dll_path)"
   ]
  },
  {
   "cell_type": "markdown",
   "id": "199a4d2b",
   "metadata": {},
   "source": [
    "### Algoritmo escolhido"
   ]
  },
  {
   "cell_type": "code",
   "execution_count": null,
   "id": "023f27a4",
   "metadata": {},
   "outputs": [],
   "source": [
    "nome_algoritmo = \"QuickSort\"\n",
    "\n",
    "algoritmo_ordenacao = alg.quick_sort"
   ]
  },
  {
   "cell_type": "markdown",
   "id": "6c3e067d",
   "metadata": {},
   "source": [
    "## Gerando os vetores de entrada"
   ]
  },
  {
   "cell_type": "markdown",
   "id": "32bb8263",
   "metadata": {},
   "source": [
    "### Entrada Crescente"
   ]
  },
  {
   "cell_type": "markdown",
   "id": "cd3c35bb",
   "metadata": {},
   "source": [
    "### Entrada Aleatória"
   ]
  },
  {
   "cell_type": "code",
   "execution_count": null,
   "id": "45fce59d",
   "metadata": {},
   "outputs": [],
   "source": [
    "tipo_entrada = \"Aleatória\""
   ]
  },
  {
   "cell_type": "code",
   "execution_count": null,
   "id": "9f16f0c5",
   "metadata": {},
   "outputs": [],
   "source": [
    "import struct\n",
    "def ler_arquivo_binario(file_path):\n",
    "    with open(file_path, 'rb') as f:\n",
    "        # Lê o primeiro inteiro que indica o tamanho\n",
    "        tamanho = struct.unpack('i', f.read(4))[0]  # 'i' é o formato para inteiro (4 bytes)\n",
    "        \n",
    "        # Lê os elementos de acordo com o tamanho\n",
    "        elementos = []\n",
    "        for _ in range(tamanho):\n",
    "            elemento = struct.unpack('i', f.read(4))[0]  # Lê cada elemento inteiro\n",
    "            elementos.append(elemento)\n",
    "    \n",
    "    # Retorna uma lista com os elementos\n",
    "    return np.array(elementos, dtype=np.int32)"
   ]
  },
  {
   "cell_type": "code",
   "execution_count": null,
   "id": "9fc36cdf",
   "metadata": {},
   "outputs": [
    {
     "data": {
      "text/plain": [
       "array([[ 68010, 160782, 178355, ..., 106571, 141137, 128726],\n",
       "       [ 44689,  62504, 138710, ..., 173419, 170883,  83043],\n",
       "       [ 59248, 101933, 124725, ..., 187216,  77315, 136571],\n",
       "       ...,\n",
       "       [131582, 116415,  41832, ...,  25977, 176973,  68483],\n",
       "       [137108,  44149,  13182, ...,  88118, 160148, 113400],\n",
       "       [  2311, 154911,   9083, ..., 131874,  77187,  59901]],\n",
       "      shape=(20, 200000), dtype=int32)"
      ]
     },
     "execution_count": 112,
     "metadata": {},
     "output_type": "execute_result"
    }
   ],
   "source": [
    "# Lista para armazenar todos os dados\n",
    "array_final = np.zeros(shape=(20,200000), dtype=np.int32)\n",
    "\n",
    "# Carregar os arquivos binários de entrada_rand_1.bin até entrada_rand_20.bin\n",
    "for i in range(1, 21):\n",
    "    file_path = f'../entradas/entrada_rand{i}.bin'\n",
    "    dados = ler_arquivo_binario(file_path)\n",
    "    array_final[i - 1] = dados\n",
    "\n",
    "array_final"
   ]
  },
  {
   "cell_type": "markdown",
   "id": "6919f24d",
   "metadata": {},
   "source": [
    "## Rodando o algoritmo"
   ]
  },
  {
   "cell_type": "code",
   "execution_count": null,
   "id": "5c648166",
   "metadata": {},
   "outputs": [
    {
     "data": {
      "text/html": [
       "<div>\n",
       "<style scoped>\n",
       "    .dataframe tbody tr th:only-of-type {\n",
       "        vertical-align: middle;\n",
       "    }\n",
       "\n",
       "    .dataframe tbody tr th {\n",
       "        vertical-align: top;\n",
       "    }\n",
       "\n",
       "    .dataframe thead th {\n",
       "        text-align: right;\n",
       "    }\n",
       "</style>\n",
       "<table border=\"1\" class=\"dataframe\">\n",
       "  <thead>\n",
       "    <tr style=\"text-align: right;\">\n",
       "      <th></th>\n",
       "      <th>Algoritmo</th>\n",
       "      <th>NumeroEntradas</th>\n",
       "      <th>Tempo</th>\n",
       "      <th>TipoEntrada</th>\n",
       "    </tr>\n",
       "  </thead>\n",
       "  <tbody>\n",
       "    <tr>\n",
       "      <th>0</th>\n",
       "      <td>BubbleSort1</td>\n",
       "      <td>1</td>\n",
       "      <td>0.000004</td>\n",
       "      <td>Aleatória</td>\n",
       "    </tr>\n",
       "    <tr>\n",
       "      <th>1</th>\n",
       "      <td>BubbleSort1</td>\n",
       "      <td>2</td>\n",
       "      <td>0.000002</td>\n",
       "      <td>Aleatória</td>\n",
       "    </tr>\n",
       "    <tr>\n",
       "      <th>2</th>\n",
       "      <td>BubbleSort1</td>\n",
       "      <td>3</td>\n",
       "      <td>0.000002</td>\n",
       "      <td>Aleatória</td>\n",
       "    </tr>\n",
       "    <tr>\n",
       "      <th>3</th>\n",
       "      <td>BubbleSort1</td>\n",
       "      <td>4</td>\n",
       "      <td>0.000001</td>\n",
       "      <td>Aleatória</td>\n",
       "    </tr>\n",
       "    <tr>\n",
       "      <th>4</th>\n",
       "      <td>BubbleSort1</td>\n",
       "      <td>6</td>\n",
       "      <td>0.000002</td>\n",
       "      <td>Aleatória</td>\n",
       "    </tr>\n",
       "    <tr>\n",
       "      <th>...</th>\n",
       "      <td>...</td>\n",
       "      <td>...</td>\n",
       "      <td>...</td>\n",
       "      <td>...</td>\n",
       "    </tr>\n",
       "    <tr>\n",
       "      <th>3115</th>\n",
       "      <td>QuickSort20</td>\n",
       "      <td>96304</td>\n",
       "      <td>0.006100</td>\n",
       "      <td>Aleatória</td>\n",
       "    </tr>\n",
       "    <tr>\n",
       "      <th>3116</th>\n",
       "      <td>QuickSort20</td>\n",
       "      <td>115609</td>\n",
       "      <td>0.007334</td>\n",
       "      <td>Aleatória</td>\n",
       "    </tr>\n",
       "    <tr>\n",
       "      <th>3117</th>\n",
       "      <td>QuickSort20</td>\n",
       "      <td>138784</td>\n",
       "      <td>0.009212</td>\n",
       "      <td>Aleatória</td>\n",
       "    </tr>\n",
       "    <tr>\n",
       "      <th>3118</th>\n",
       "      <td>QuickSort20</td>\n",
       "      <td>166604</td>\n",
       "      <td>0.010909</td>\n",
       "      <td>Aleatória</td>\n",
       "    </tr>\n",
       "    <tr>\n",
       "      <th>3119</th>\n",
       "      <td>QuickSort20</td>\n",
       "      <td>200000</td>\n",
       "      <td>0.013348</td>\n",
       "      <td>Aleatória</td>\n",
       "    </tr>\n",
       "  </tbody>\n",
       "</table>\n",
       "<p>3120 rows × 4 columns</p>\n",
       "</div>"
      ],
      "text/plain": [
       "        Algoritmo  NumeroEntradas     Tempo TipoEntrada\n",
       "0     BubbleSort1               1  0.000004   Aleatória\n",
       "1     BubbleSort1               2  0.000002   Aleatória\n",
       "2     BubbleSort1               3  0.000002   Aleatória\n",
       "3     BubbleSort1               4  0.000001   Aleatória\n",
       "4     BubbleSort1               6  0.000002   Aleatória\n",
       "...           ...             ...       ...         ...\n",
       "3115  QuickSort20           96304  0.006100   Aleatória\n",
       "3116  QuickSort20          115609  0.007334   Aleatória\n",
       "3117  QuickSort20          138784  0.009212   Aleatória\n",
       "3118  QuickSort20          166604  0.010909   Aleatória\n",
       "3119  QuickSort20          200000  0.013348   Aleatória\n",
       "\n",
       "[3120 rows x 4 columns]"
      ]
     },
     "execution_count": 119,
     "metadata": {},
     "output_type": "execute_result"
    }
   ],
   "source": [
    "novos_tempos = []\n",
    "\n",
    "for i, array in enumerate(array_final):\n",
    "    for j, seq_value in enumerate(sequencia):\n",
    "        copia = array[:seq_value].copy()\n",
    "        \n",
    "        tempo_demorado = alg.run_sort_function(copia, sort_algorithm=algoritmo_ordenacao)\n",
    "\n",
    "        novos_tempos.append(\n",
    "                {\n",
    "                    \"Algoritmo\": f\"{nome_algoritmo}{i + 1}\",\n",
    "                    \"NumeroEntradas\": seq_value,\n",
    "                    \"Tempo\": tempo_demorado,\n",
    "                    \"TipoEntrada\": tipo_entrada\n",
    "                }\n",
    "            )\n",
    "\n",
    "novo_algoritmo = pd.DataFrame(novos_tempos)\n",
    "\n",
    "df = pd.concat([df, novo_algoritmo], ignore_index=True)\n",
    "df"
   ]
  },
  {
   "cell_type": "markdown",
   "id": "cf378fcf",
   "metadata": {},
   "source": [
    "# Gráficos"
   ]
  },
  {
   "cell_type": "code",
   "execution_count": null,
   "id": "3d298b65",
   "metadata": {},
   "outputs": [],
   "source": [
    "import re\n",
    "\n",
    "\n",
    "def extrair_prefixo(nome):\n",
    "    match = re.match(r\"[A-Za-z]+\", nome)\n",
    "    return match.group(0) if match else nome"
   ]
  },
  {
   "cell_type": "code",
   "execution_count": null,
   "id": "d61a2c9d",
   "metadata": {},
   "outputs": [
    {
     "data": {
      "text/plain": [
       "<Figure size 1000x600 with 0 Axes>"
      ]
     },
     "execution_count": 121,
     "metadata": {},
     "output_type": "execute_result"
    },
    {
     "data": {
      "text/plain": [
       "<Figure size 1000x600 with 0 Axes>"
      ]
     },
     "metadata": {},
     "output_type": "display_data"
    }
   ],
   "source": [
    "# Cria uma nova coluna com o prefixo\n",
    "df_grafico = df.copy()\n",
    "\n",
    "df_grafico['Grupo'] = df['Algoritmo'].apply(extrair_prefixo)\n",
    "\n",
    "# Tempo em microsegundos\n",
    "df_grafico['Tempo_us'] = df['Tempo'] * 1e6\n",
    "\n",
    "# Calcula a média do tempo para cada grupo e número de entradas\n",
    "df_stats = (\n",
    "    df_grafico.groupby(['Grupo', 'NumeroEntradas'], as_index=False)['Tempo_us']\n",
    "        .agg(['mean', 'std'])\n",
    "        .reset_index()\n",
    "        .rename(columns={'mean': 'TempoMedio', 'std': 'DesvioPadrao'})\n",
    ")\n",
    "\n",
    "# Plotando\n",
    "plt.figure(figsize=(10,6))"
   ]
  },
  {
   "cell_type": "markdown",
   "id": "b94cf4ab",
   "metadata": {},
   "source": [
    "## Organizando os grupos"
   ]
  },
  {
   "cell_type": "code",
   "execution_count": null,
   "id": "e04a1ea8",
   "metadata": {},
   "outputs": [],
   "source": [
    "def label_grupo(nome_grupo: str):\n",
    "    label = nome_grupo\n",
    "\n",
    "    if nome_grupo == \"QuickSort\":\n",
    "        label = \"Quick Sort (Pivô Início)\"\n",
    "    elif nome_grupo == \"CentralQuickSort\":\n",
    "        label = \"Quick Sort (Pivô Central)\"\n",
    "    \n",
    "    return label"
   ]
  },
  {
   "cell_type": "code",
   "execution_count": null,
   "id": "1f65fb8d",
   "metadata": {},
   "outputs": [
    {
     "data": {
      "image/png": "[encoded data removed]",
      "text/plain": [
       "<Figure size 640x480 with 1 Axes>"
      ]
     },
     "metadata": {},
     "output_type": "display_data"
    }
   ],
   "source": [
    "grupos = df_stats['Grupo'].unique()\n",
    "\n",
    "for grupo in grupos:\n",
    "    df_grupo = df_stats[df_stats['Grupo'] == grupo]\n",
    "    plt.plot(df_grupo['NumeroEntradas'], df_grupo['TempoMedio'], '-o', label=label_grupo(grupo))\n",
    "    plt.fill_between(\n",
    "        df_grupo['NumeroEntradas'],\n",
    "        df_grupo['TempoMedio'] - df_grupo['DesvioPadrao'],\n",
    "        df_grupo['TempoMedio'] + df_grupo['DesvioPadrao'],\n",
    "        alpha=0.2\n",
    "    )\n",
    "\n",
    "plt.title('Análise dos Algoritmos de Ordenação (Médias por Grupo)')\n",
    "plt.xlabel('Número de Entradas')\n",
    "plt.ylabel('Tempo Médio (µs)')\n",
    "plt.legend(title='Grupo de Algoritmo')\n",
    "\n",
    "# limite_superior = (\n",
    "#     df_stats[df_stats['Grupo'].isin(['MergeSort', 'QuickSort'])]\n",
    "#     ['TempoMedio'].max() * 5.0  # adiciona 500% de folga visual\n",
    "#     )\n",
    "\n",
    "# plt.ylim(0, limite_superior)\n",
    "plt.grid(True)\n",
    "plt.show()\n"
   ]
  },
  {
   "cell_type": "markdown",
   "id": "081f5053",
   "metadata": {},
   "source": [
    "# (Opcional) Salvar Dados"
   ]
  },
  {
   "cell_type": "code",
   "execution_count": null,
   "id": "ba3d9946",
   "metadata": {},
   "outputs": [],
   "source": [
    "path_csv_final = \"teste2.csv\""
   ]
  },
  {
   "cell_type": "code",
   "execution_count": null,
   "id": "67b44724",
   "metadata": {},
   "outputs": [],
   "source": [
    "df.to_csv(path_csv_final, index=False)"
   ]
  }
 ],
 "metadata": {
  "kernelspec": {
   "display_name": ".venv",
   "language": "python",
   "name": "python3"
  },
  "language_info": {
   "codemirror_mode": {
    "name": "ipython",
    "version": 3
   },
   "file_extension": ".py",
   "mimetype": "text/x-python",
   "name": "python",
   "nbconvert_exporter": "python",
   "pygments_lexer": "ipython3",
   "version": "3.14.0"
  }
 },
 "nbformat": 4,
 "nbformat_minor": 5
}
