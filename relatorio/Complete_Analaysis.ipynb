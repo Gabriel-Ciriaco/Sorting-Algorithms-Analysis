{
 "cells": [
  {
   "cell_type": "markdown",
   "id": "3fc44074",
   "metadata": {},
   "source": [
    "# Importando bibliotecas"
   ]
  },
  {
   "cell_type": "code",
   "execution_count": 1,
   "id": "deedd16f",
   "metadata": {},
   "outputs": [],
   "source": [
    "import pandas as pd\n",
    "import numpy as np\n",
    "import matplotlib.pyplot as plt\n",
    "\n",
    "from sorting_algorithms import Sorting_Algorithms"
   ]
  },
  {
   "cell_type": "code",
   "execution_count": 34,
   "id": "f49dbb94",
   "metadata": {},
   "outputs": [
    {
     "data": {
      "text/html": [
       "<div>\n",
       "<style scoped>\n",
       "    .dataframe tbody tr th:only-of-type {\n",
       "        vertical-align: middle;\n",
       "    }\n",
       "\n",
       "    .dataframe tbody tr th {\n",
       "        vertical-align: top;\n",
       "    }\n",
       "\n",
       "    .dataframe thead th {\n",
       "        text-align: right;\n",
       "    }\n",
       "</style>\n",
       "<table border=\"1\" class=\"dataframe\">\n",
       "  <thead>\n",
       "    <tr style=\"text-align: right;\">\n",
       "      <th></th>\n",
       "      <th>Algoritmo</th>\n",
       "      <th>NumeroEntradas</th>\n",
       "      <th>Tempo</th>\n",
       "      <th>TipoEntrada</th>\n",
       "    </tr>\n",
       "  </thead>\n",
       "  <tbody>\n",
       "    <tr>\n",
       "      <th>0</th>\n",
       "      <td>BubbleSort1</td>\n",
       "      <td>1</td>\n",
       "      <td>0.000004</td>\n",
       "      <td>Aleatória</td>\n",
       "    </tr>\n",
       "    <tr>\n",
       "      <th>1</th>\n",
       "      <td>BubbleSort1</td>\n",
       "      <td>2</td>\n",
       "      <td>0.000002</td>\n",
       "      <td>Aleatória</td>\n",
       "    </tr>\n",
       "    <tr>\n",
       "      <th>2</th>\n",
       "      <td>BubbleSort1</td>\n",
       "      <td>3</td>\n",
       "      <td>0.000002</td>\n",
       "      <td>Aleatória</td>\n",
       "    </tr>\n",
       "    <tr>\n",
       "      <th>3</th>\n",
       "      <td>BubbleSort1</td>\n",
       "      <td>4</td>\n",
       "      <td>0.000001</td>\n",
       "      <td>Aleatória</td>\n",
       "    </tr>\n",
       "    <tr>\n",
       "      <th>4</th>\n",
       "      <td>BubbleSort1</td>\n",
       "      <td>6</td>\n",
       "      <td>0.000002</td>\n",
       "      <td>Aleatória</td>\n",
       "    </tr>\n",
       "    <tr>\n",
       "      <th>...</th>\n",
       "      <td>...</td>\n",
       "      <td>...</td>\n",
       "      <td>...</td>\n",
       "      <td>...</td>\n",
       "    </tr>\n",
       "    <tr>\n",
       "      <th>3115</th>\n",
       "      <td>QuickSort20</td>\n",
       "      <td>96304</td>\n",
       "      <td>0.006100</td>\n",
       "      <td>Aleatória</td>\n",
       "    </tr>\n",
       "    <tr>\n",
       "      <th>3116</th>\n",
       "      <td>QuickSort20</td>\n",
       "      <td>115609</td>\n",
       "      <td>0.007334</td>\n",
       "      <td>Aleatória</td>\n",
       "    </tr>\n",
       "    <tr>\n",
       "      <th>3117</th>\n",
       "      <td>QuickSort20</td>\n",
       "      <td>138784</td>\n",
       "      <td>0.009212</td>\n",
       "      <td>Aleatória</td>\n",
       "    </tr>\n",
       "    <tr>\n",
       "      <th>3118</th>\n",
       "      <td>QuickSort20</td>\n",
       "      <td>166604</td>\n",
       "      <td>0.010909</td>\n",
       "      <td>Aleatória</td>\n",
       "    </tr>\n",
       "    <tr>\n",
       "      <th>3119</th>\n",
       "      <td>QuickSort20</td>\n",
       "      <td>200000</td>\n",
       "      <td>0.013348</td>\n",
       "      <td>Aleatória</td>\n",
       "    </tr>\n",
       "  </tbody>\n",
       "</table>\n",
       "<p>3120 rows × 4 columns</p>\n",
       "</div>"
      ],
      "text/plain": [
       "        Algoritmo  NumeroEntradas     Tempo TipoEntrada\n",
       "0     BubbleSort1               1  0.000004   Aleatória\n",
       "1     BubbleSort1               2  0.000002   Aleatória\n",
       "2     BubbleSort1               3  0.000002   Aleatória\n",
       "3     BubbleSort1               4  0.000001   Aleatória\n",
       "4     BubbleSort1               6  0.000002   Aleatória\n",
       "...           ...             ...       ...         ...\n",
       "3115  QuickSort20           96304  0.006100   Aleatória\n",
       "3116  QuickSort20          115609  0.007334   Aleatória\n",
       "3117  QuickSort20          138784  0.009212   Aleatória\n",
       "3118  QuickSort20          166604  0.010909   Aleatória\n",
       "3119  QuickSort20          200000  0.013348   Aleatória\n",
       "\n",
       "[3120 rows x 4 columns]"
      ]
     },
     "execution_count": 34,
     "metadata": {},
     "output_type": "execute_result"
    }
   ],
   "source": [
    "df = pd.read_csv(\"./testes_ordenacao.csv\")\n",
    "df"
   ]
  },
  {
   "cell_type": "markdown",
   "id": "2c01d688",
   "metadata": {},
   "source": [
    "# Testando o Algoritmo"
   ]
  },
  {
   "cell_type": "markdown",
   "id": "4c055147",
   "metadata": {},
   "source": [
    "## Criar Sequência Númerica"
   ]
  },
  {
   "cell_type": "code",
   "execution_count": 35,
   "id": "0f258aeb",
   "metadata": {},
   "outputs": [],
   "source": [
    "import math\n",
    "\n",
    "\n",
    "def gerar_tamanhos_entrada_log_exp(max_log=1000, max_exp=10**6, num_log=30, num_exp=30):\n",
    "    \"\"\"\n",
    "    Gera uma sequência de tamanhos de entrada para análise de desempenho de algoritmos.\n",
    "\n",
    "    A sequência tem duas partes:\n",
    "    - Crescimento logarítmico (num_log pontos) entre 1 e max_log\n",
    "    - Crescimento exponencial (num_exp pontos) entre max_log e max_exp\n",
    "\n",
    "    Os tamanhos são salvos num arquivo binário \"tamanhos_entrada_log_exp.bin\".\n",
    "\n",
    "    Parâmetros:\n",
    "        max_log (int): limite superior da parte logarítmica\n",
    "        max_exp (int): tamanho máximo (último valor será exatamente max_exp)\n",
    "        num_log (int): número de pontos na faixa logarítmica\n",
    "        num_exp (int): número de pontos na faixa exponencial\n",
    "    \"\"\"\n",
    "\n",
    "    # --- Crescimento logarítmico ---\n",
    "    log_values = []\n",
    "    for i in range(num_log):\n",
    "        # interpolação logarítmica de 1 até max_log\n",
    "        val = round(math.exp(math.log(1) + (math.log(max_log) - math.log(1)) * i / (num_log - 1)))\n",
    "        log_values.append(max(1, val))  # garante mínimo 1\n",
    "\n",
    "    # --- Crescimento exponencial ---\n",
    "    exp_values = []\n",
    "    base = (max_exp / max_log) ** (1 / (num_exp - 1))\n",
    "    for i in range(num_exp):\n",
    "        val = round(max_log * (base ** i))\n",
    "        exp_values.append(val)\n",
    "    exp_values[-1] = max_exp  # garante o último valor exato\n",
    "\n",
    "    # --- Combina e remove duplicatas ---\n",
    "    return sorted(set(log_values + exp_values))"
   ]
  },
  {
   "cell_type": "code",
   "execution_count": 38,
   "id": "67d1dec5",
   "metadata": {},
   "outputs": [
    {
     "name": "stdout",
     "output_type": "stream",
     "text": [
      "[1, 2, 3, 4, 6, 7, 10, 13, 18, 24, 32, 42, 56, 75, 100, 133, 178, 237, 316, 422, 562, 750, 1000, 1200, 1441, 1730, 2077, 2493, 2993, 3593, 4313, 5177, 6215, 7461, 8957, 10752, 12907, 15495, 18601, 22330, 26806, 32179, 38629, 46373, 55668, 66827, 80223, 96304, 115609, 138784, 166604, 200000]\n"
     ]
    }
   ],
   "source": [
    "sequencia = gerar_tamanhos_entrada_log_exp(max_log=1000,max_exp=2*(10**5), num_log=25, num_exp=30)\n",
    "print(sequencia)"
   ]
  },
  {
   "cell_type": "markdown",
   "id": "d34b29bc",
   "metadata": {},
   "source": [
    "## Carregando o Algoritmo"
   ]
  },
  {
   "cell_type": "code",
   "execution_count": 2,
   "id": "d8d99f12",
   "metadata": {},
   "outputs": [],
   "source": [
    "import os\n",
    "\n",
    "\n",
    "dir_dll_path = os.path.join(os.getcwd(), 'C_Algorithms_Library.dll')\n",
    "alg = Sorting_Algorithms(dir_dll_path)"
   ]
  },
  {
   "cell_type": "markdown",
   "id": "199a4d2b",
   "metadata": {},
   "source": [
    "### Algoritmo escolhido"
   ]
  },
  {
   "cell_type": "code",
   "execution_count": null,
   "id": "023f27a4",
   "metadata": {},
   "outputs": [],
   "source": [
    "nome_algoritmo = \"SelectionSort\"\n",
    "\n",
    "algoritmo_ordenacao = alg.selection_sort"
   ]
  },
  {
   "cell_type": "markdown",
   "id": "6c3e067d",
   "metadata": {},
   "source": [
    "## Gerando os vetores de entrada"
   ]
  },
  {
   "cell_type": "markdown",
   "id": "32bb8263",
   "metadata": {},
   "source": [
    "### Entrada Crescente"
   ]
  },
  {
   "cell_type": "code",
   "execution_count": null,
   "id": "7dd041e4",
   "metadata": {},
   "outputs": [],
   "source": [
    "tipo_entrada = \"Crescente\""
   ]
  },
  {
   "cell_type": "code",
   "execution_count": 29,
   "id": "1169f4d8",
   "metadata": {},
   "outputs": [],
   "source": [
    "arr_crescente = np.arange(1, 200001, dtype=np.int32)\n",
    "\n",
    "array_final = np.tile(arr_crescente, (20, 1))"
   ]
  },
  {
   "cell_type": "markdown",
   "id": "446f1ff9",
   "metadata": {},
   "source": [
    "### Entrada Decrescente"
   ]
  },
  {
   "cell_type": "code",
   "execution_count": 30,
   "id": "72fa6823",
   "metadata": {},
   "outputs": [],
   "source": [
    "tipo_entrada = \"Decrescente\""
   ]
  },
  {
   "cell_type": "code",
   "execution_count": 33,
   "id": "0ecd4d1e",
   "metadata": {},
   "outputs": [],
   "source": [
    "arr_descrescente = np.arange(start=200000, stop=0, step=-1, dtype=np.int32)\n",
    "array_final = np.tile(arr_descrescente, (20, 1))"
   ]
  },
  {
   "cell_type": "code",
   "execution_count": 26,
   "id": "1586a5ba",
   "metadata": {},
   "outputs": [
    {
     "name": "stdout",
     "output_type": "stream",
     "text": [
      "[200000 199999 199998 ...      3      2      1]\n"
     ]
    },
    {
     "data": {
      "text/plain": [
       "np.True_"
      ]
     },
     "execution_count": 26,
     "metadata": {},
     "output_type": "execute_result"
    }
   ],
   "source": [
    "# print(arr_descrescente)\n",
    "# alg.run_sort_function(arr_descrescente, sort_algorithm=alg.selection_sort)\n",
    "# np.all(np.diff(arr_descrescente) >= 0)\n"
   ]
  },
  {
   "cell_type": "markdown",
   "id": "cd3c35bb",
   "metadata": {},
   "source": [
    "### Entrada Aleatória"
   ]
  },
  {
   "cell_type": "code",
   "execution_count": 40,
   "id": "45fce59d",
   "metadata": {},
   "outputs": [],
   "source": [
    "tipo_entrada = \"Aleatória\""
   ]
  },
  {
   "cell_type": "code",
   "execution_count": 41,
   "id": "9f16f0c5",
   "metadata": {},
   "outputs": [],
   "source": [
    "import struct\n",
    "def ler_arquivo_binario(file_path):\n",
    "    with open(file_path, 'rb') as f:\n",
    "        # Lê o primeiro inteiro que indica o tamanho\n",
    "        tamanho = struct.unpack('i', f.read(4))[0]  # 'i' é o formato para inteiro (4 bytes)\n",
    "        \n",
    "        # Lê os elementos de acordo com o tamanho\n",
    "        elementos = []\n",
    "        for _ in range(tamanho):\n",
    "            elemento = struct.unpack('i', f.read(4))[0]  # Lê cada elemento inteiro\n",
    "            elementos.append(elemento)\n",
    "    \n",
    "    # Retorna uma lista com os elementos\n",
    "    return np.array(elementos, dtype=np.int32)"
   ]
  },
  {
   "cell_type": "code",
   "execution_count": 68,
   "id": "9fc36cdf",
   "metadata": {},
   "outputs": [
    {
     "data": {
      "text/plain": [
       "array([[ 68010, 160782, 178355, ..., 106571, 141137, 128726],\n",
       "       [ 44689,  62504, 138710, ..., 173419, 170883,  83043],\n",
       "       [ 59248, 101933, 124725, ..., 187216,  77315, 136571],\n",
       "       ...,\n",
       "       [131582, 116415,  41832, ...,  25977, 176973,  68483],\n",
       "       [137108,  44149,  13182, ...,  88118, 160148, 113400],\n",
       "       [  2311, 154911,   9083, ..., 131874,  77187,  59901]],\n",
       "      shape=(20, 200000), dtype=int32)"
      ]
     },
     "execution_count": 68,
     "metadata": {},
     "output_type": "execute_result"
    }
   ],
   "source": [
    "# Lista para armazenar todos os dados\n",
    "array_final = np.zeros(shape=(20,200000), dtype=np.int32)\n",
    "\n",
    "# Carregar os arquivos binários de entrada_rand_1.bin até entrada_rand_20.bin\n",
    "for i in range(1, 21):\n",
    "    file_path = f'../entradas/entrada_rand{i}.bin'\n",
    "    dados = ler_arquivo_binario(file_path)\n",
    "    array_final[i - 1] = dados\n",
    "\n",
    "array_final"
   ]
  },
  {
   "cell_type": "markdown",
   "id": "6919f24d",
   "metadata": {},
   "source": [
    "## Rodando o algoritmo"
   ]
  },
  {
   "cell_type": "code",
   "execution_count": 70,
   "id": "5c648166",
   "metadata": {},
   "outputs": [
    {
     "name": "stdout",
     "output_type": "stream",
     "text": [
      "{'Algoritmo': 'SelectionSort1', 'NumeroEntradas': 1, 'Tempo': 4.5e-06, 'TipoEntrada': 'Aleatória'}\n",
      "{'Algoritmo': 'SelectionSort1', 'NumeroEntradas': 2, 'Tempo': 6.2e-06, 'TipoEntrada': 'Aleatória'}\n",
      "{'Algoritmo': 'SelectionSort1', 'NumeroEntradas': 3, 'Tempo': 2.3e-06, 'TipoEntrada': 'Aleatória'}\n",
      "{'Algoritmo': 'SelectionSort1', 'NumeroEntradas': 4, 'Tempo': 8.38e-05, 'TipoEntrada': 'Aleatória'}\n",
      "{'Algoritmo': 'SelectionSort1', 'NumeroEntradas': 6, 'Tempo': 8.13e-05, 'TipoEntrada': 'Aleatória'}\n",
      "{'Algoritmo': 'SelectionSort1', 'NumeroEntradas': 7, 'Tempo': 0.0003145, 'TipoEntrada': 'Aleatória'}\n",
      "{'Algoritmo': 'SelectionSort1', 'NumeroEntradas': 10, 'Tempo': 4.2e-06, 'TipoEntrada': 'Aleatória'}\n",
      "{'Algoritmo': 'SelectionSort1', 'NumeroEntradas': 13, 'Tempo': 2.8e-06, 'TipoEntrada': 'Aleatória'}\n",
      "{'Algoritmo': 'SelectionSort1', 'NumeroEntradas': 18, 'Tempo': 3e-06, 'TipoEntrada': 'Aleatória'}\n",
      "{'Algoritmo': 'SelectionSort1', 'NumeroEntradas': 24, 'Tempo': 3.4e-06, 'TipoEntrada': 'Aleatória'}\n",
      "{'Algoritmo': 'SelectionSort1', 'NumeroEntradas': 32, 'Tempo': 4.1e-06, 'TipoEntrada': 'Aleatória'}\n",
      "{'Algoritmo': 'SelectionSort1', 'NumeroEntradas': 42, 'Tempo': 4.7e-06, 'TipoEntrada': 'Aleatória'}\n",
      "{'Algoritmo': 'SelectionSort1', 'NumeroEntradas': 56, 'Tempo': 5.9e-06, 'TipoEntrada': 'Aleatória'}\n",
      "{'Algoritmo': 'SelectionSort1', 'NumeroEntradas': 75, 'Tempo': 8.3e-06, 'TipoEntrada': 'Aleatória'}\n",
      "{'Algoritmo': 'SelectionSort1', 'NumeroEntradas': 100, 'Tempo': 1.21e-05, 'TipoEntrada': 'Aleatória'}\n",
      "{'Algoritmo': 'SelectionSort1', 'NumeroEntradas': 133, 'Tempo': 1.82e-05, 'TipoEntrada': 'Aleatória'}\n",
      "{'Algoritmo': 'SelectionSort1', 'NumeroEntradas': 178, 'Tempo': 2.79e-05, 'TipoEntrada': 'Aleatória'}\n",
      "{'Algoritmo': 'SelectionSort1', 'NumeroEntradas': 237, 'Tempo': 4.36e-05, 'TipoEntrada': 'Aleatória'}\n",
      "{'Algoritmo': 'SelectionSort1', 'NumeroEntradas': 316, 'Tempo': 6.59e-05, 'TipoEntrada': 'Aleatória'}\n",
      "{'Algoritmo': 'SelectionSort1', 'NumeroEntradas': 422, 'Tempo': 0.0001098, 'TipoEntrada': 'Aleatória'}\n",
      "{'Algoritmo': 'SelectionSort1', 'NumeroEntradas': 562, 'Tempo': 0.0001756, 'TipoEntrada': 'Aleatória'}\n",
      "{'Algoritmo': 'SelectionSort1', 'NumeroEntradas': 750, 'Tempo': 0.000314, 'TipoEntrada': 'Aleatória'}\n",
      "{'Algoritmo': 'SelectionSort1', 'NumeroEntradas': 1000, 'Tempo': 0.0005035, 'TipoEntrada': 'Aleatória'}\n",
      "{'Algoritmo': 'SelectionSort1', 'NumeroEntradas': 1200, 'Tempo': 0.0006803, 'TipoEntrada': 'Aleatória'}\n",
      "{'Algoritmo': 'SelectionSort1', 'NumeroEntradas': 1441, 'Tempo': 0.0009445, 'TipoEntrada': 'Aleatória'}\n",
      "{'Algoritmo': 'SelectionSort1', 'NumeroEntradas': 1730, 'Tempo': 0.001398, 'TipoEntrada': 'Aleatória'}\n",
      "{'Algoritmo': 'SelectionSort1', 'NumeroEntradas': 2077, 'Tempo': 0.0019031, 'TipoEntrada': 'Aleatória'}\n",
      "{'Algoritmo': 'SelectionSort1', 'NumeroEntradas': 2493, 'Tempo': 0.0027467, 'TipoEntrada': 'Aleatória'}\n",
      "{'Algoritmo': 'SelectionSort1', 'NumeroEntradas': 2993, 'Tempo': 0.0029008, 'TipoEntrada': 'Aleatória'}\n",
      "{'Algoritmo': 'SelectionSort1', 'NumeroEntradas': 3593, 'Tempo': 0.0030424, 'TipoEntrada': 'Aleatória'}\n",
      "{'Algoritmo': 'SelectionSort1', 'NumeroEntradas': 4313, 'Tempo': 0.0041062, 'TipoEntrada': 'Aleatória'}\n",
      "{'Algoritmo': 'SelectionSort1', 'NumeroEntradas': 5177, 'Tempo': 0.0057104, 'TipoEntrada': 'Aleatória'}\n",
      "{'Algoritmo': 'SelectionSort1', 'NumeroEntradas': 6215, 'Tempo': 0.0080701, 'TipoEntrada': 'Aleatória'}\n",
      "{'Algoritmo': 'SelectionSort1', 'NumeroEntradas': 7461, 'Tempo': 0.0109976, 'TipoEntrada': 'Aleatória'}\n",
      "{'Algoritmo': 'SelectionSort1', 'NumeroEntradas': 8957, 'Tempo': 0.0158605, 'TipoEntrada': 'Aleatória'}\n",
      "{'Algoritmo': 'SelectionSort1', 'NumeroEntradas': 10752, 'Tempo': 0.0229311, 'TipoEntrada': 'Aleatória'}\n",
      "{'Algoritmo': 'SelectionSort1', 'NumeroEntradas': 12907, 'Tempo': 0.0348204, 'TipoEntrada': 'Aleatória'}\n",
      "{'Algoritmo': 'SelectionSort1', 'NumeroEntradas': 15495, 'Tempo': 0.0454452, 'TipoEntrada': 'Aleatória'}\n",
      "{'Algoritmo': 'SelectionSort1', 'NumeroEntradas': 18601, 'Tempo': 0.0706464, 'TipoEntrada': 'Aleatória'}\n",
      "{'Algoritmo': 'SelectionSort1', 'NumeroEntradas': 22330, 'Tempo': 0.0957731, 'TipoEntrada': 'Aleatória'}\n",
      "{'Algoritmo': 'SelectionSort1', 'NumeroEntradas': 26806, 'Tempo': 0.129713, 'TipoEntrada': 'Aleatória'}\n",
      "{'Algoritmo': 'SelectionSort1', 'NumeroEntradas': 32179, 'Tempo': 0.1897027, 'TipoEntrada': 'Aleatória'}\n",
      "{'Algoritmo': 'SelectionSort1', 'NumeroEntradas': 38629, 'Tempo': 0.2776497, 'TipoEntrada': 'Aleatória'}\n",
      "{'Algoritmo': 'SelectionSort1', 'NumeroEntradas': 46373, 'Tempo': 0.3929299, 'TipoEntrada': 'Aleatória'}\n",
      "{'Algoritmo': 'SelectionSort1', 'NumeroEntradas': 55668, 'Tempo': 0.5750052999999999, 'TipoEntrada': 'Aleatória'}\n",
      "{'Algoritmo': 'SelectionSort1', 'NumeroEntradas': 66827, 'Tempo': 0.8435321, 'TipoEntrada': 'Aleatória'}\n",
      "{'Algoritmo': 'SelectionSort1', 'NumeroEntradas': 80223, 'Tempo': 1.220348, 'TipoEntrada': 'Aleatória'}\n",
      "{'Algoritmo': 'SelectionSort1', 'NumeroEntradas': 96304, 'Tempo': 1.7368947000000001, 'TipoEntrada': 'Aleatória'}\n",
      "{'Algoritmo': 'SelectionSort1', 'NumeroEntradas': 115609, 'Tempo': 2.4731405, 'TipoEntrada': 'Aleatória'}\n",
      "{'Algoritmo': 'SelectionSort1', 'NumeroEntradas': 138784, 'Tempo': 3.6219729000000003, 'TipoEntrada': 'Aleatória'}\n",
      "{'Algoritmo': 'SelectionSort1', 'NumeroEntradas': 166604, 'Tempo': 5.11423, 'TipoEntrada': 'Aleatória'}\n",
      "{'Algoritmo': 'SelectionSort1', 'NumeroEntradas': 200000, 'Tempo': 7.2447525, 'TipoEntrada': 'Aleatória'}\n",
      "{'Algoritmo': 'SelectionSort2', 'NumeroEntradas': 1, 'Tempo': 0.0001605, 'TipoEntrada': 'Aleatória'}\n",
      "{'Algoritmo': 'SelectionSort2', 'NumeroEntradas': 2, 'Tempo': 1.3e-06, 'TipoEntrada': 'Aleatória'}\n",
      "{'Algoritmo': 'SelectionSort2', 'NumeroEntradas': 3, 'Tempo': 1e-06, 'TipoEntrada': 'Aleatória'}\n",
      "{'Algoritmo': 'SelectionSort2', 'NumeroEntradas': 4, 'Tempo': 8e-07, 'TipoEntrada': 'Aleatória'}\n",
      "{'Algoritmo': 'SelectionSort2', 'NumeroEntradas': 6, 'Tempo': 9e-07, 'TipoEntrada': 'Aleatória'}\n",
      "{'Algoritmo': 'SelectionSort2', 'NumeroEntradas': 7, 'Tempo': 9e-07, 'TipoEntrada': 'Aleatória'}\n",
      "{'Algoritmo': 'SelectionSort2', 'NumeroEntradas': 10, 'Tempo': 1.1e-06, 'TipoEntrada': 'Aleatória'}\n",
      "{'Algoritmo': 'SelectionSort2', 'NumeroEntradas': 13, 'Tempo': 1.2e-06, 'TipoEntrada': 'Aleatória'}\n",
      "{'Algoritmo': 'SelectionSort2', 'NumeroEntradas': 18, 'Tempo': 1.2e-06, 'TipoEntrada': 'Aleatória'}\n",
      "{'Algoritmo': 'SelectionSort2', 'NumeroEntradas': 24, 'Tempo': 1.6e-06, 'TipoEntrada': 'Aleatória'}\n",
      "{'Algoritmo': 'SelectionSort2', 'NumeroEntradas': 32, 'Tempo': 2e-06, 'TipoEntrada': 'Aleatória'}\n",
      "{'Algoritmo': 'SelectionSort2', 'NumeroEntradas': 42, 'Tempo': 2.5e-06, 'TipoEntrada': 'Aleatória'}\n",
      "{'Algoritmo': 'SelectionSort2', 'NumeroEntradas': 56, 'Tempo': 2.9e-06, 'TipoEntrada': 'Aleatória'}\n",
      "{'Algoritmo': 'SelectionSort2', 'NumeroEntradas': 75, 'Tempo': 4.3e-06, 'TipoEntrada': 'Aleatória'}\n",
      "{'Algoritmo': 'SelectionSort2', 'NumeroEntradas': 100, 'Tempo': 6.2e-06, 'TipoEntrada': 'Aleatória'}\n",
      "{'Algoritmo': 'SelectionSort2', 'NumeroEntradas': 133, 'Tempo': 9.1e-06, 'TipoEntrada': 'Aleatória'}\n",
      "{'Algoritmo': 'SelectionSort2', 'NumeroEntradas': 178, 'Tempo': 1.42e-05, 'TipoEntrada': 'Aleatória'}\n",
      "{'Algoritmo': 'SelectionSort2', 'NumeroEntradas': 237, 'Tempo': 2.14e-05, 'TipoEntrada': 'Aleatória'}\n",
      "{'Algoritmo': 'SelectionSort2', 'NumeroEntradas': 316, 'Tempo': 3.36e-05, 'TipoEntrada': 'Aleatória'}\n",
      "{'Algoritmo': 'SelectionSort2', 'NumeroEntradas': 422, 'Tempo': 5.31e-05, 'TipoEntrada': 'Aleatória'}\n",
      "{'Algoritmo': 'SelectionSort2', 'NumeroEntradas': 562, 'Tempo': 8.79e-05, 'TipoEntrada': 'Aleatória'}\n",
      "{'Algoritmo': 'SelectionSort2', 'NumeroEntradas': 750, 'Tempo': 0.0001406, 'TipoEntrada': 'Aleatória'}\n",
      "{'Algoritmo': 'SelectionSort2', 'NumeroEntradas': 1000, 'Tempo': 0.0002425, 'TipoEntrada': 'Aleatória'}\n",
      "{'Algoritmo': 'SelectionSort2', 'NumeroEntradas': 1200, 'Tempo': 0.0003381, 'TipoEntrada': 'Aleatória'}\n",
      "{'Algoritmo': 'SelectionSort2', 'NumeroEntradas': 1441, 'Tempo': 0.0004805, 'TipoEntrada': 'Aleatória'}\n",
      "{'Algoritmo': 'SelectionSort2', 'NumeroEntradas': 1730, 'Tempo': 0.0006598, 'TipoEntrada': 'Aleatória'}\n",
      "{'Algoritmo': 'SelectionSort2', 'NumeroEntradas': 2077, 'Tempo': 0.0009732, 'TipoEntrada': 'Aleatória'}\n",
      "{'Algoritmo': 'SelectionSort2', 'NumeroEntradas': 2493, 'Tempo': 0.0012748, 'TipoEntrada': 'Aleatória'}\n",
      "{'Algoritmo': 'SelectionSort2', 'NumeroEntradas': 2993, 'Tempo': 0.0017772, 'TipoEntrada': 'Aleatória'}\n",
      "{'Algoritmo': 'SelectionSort2', 'NumeroEntradas': 3593, 'Tempo': 0.0025487, 'TipoEntrada': 'Aleatória'}\n",
      "{'Algoritmo': 'SelectionSort2', 'NumeroEntradas': 4313, 'Tempo': 0.0036243, 'TipoEntrada': 'Aleatória'}\n",
      "{'Algoritmo': 'SelectionSort2', 'NumeroEntradas': 5177, 'Tempo': 0.005191, 'TipoEntrada': 'Aleatória'}\n",
      "{'Algoritmo': 'SelectionSort2', 'NumeroEntradas': 6215, 'Tempo': 0.0072805, 'TipoEntrada': 'Aleatória'}\n",
      "{'Algoritmo': 'SelectionSort2', 'NumeroEntradas': 7461, 'Tempo': 0.0105816, 'TipoEntrada': 'Aleatória'}\n",
      "{'Algoritmo': 'SelectionSort2', 'NumeroEntradas': 8957, 'Tempo': 0.0148804, 'TipoEntrada': 'Aleatória'}\n",
      "{'Algoritmo': 'SelectionSort2', 'NumeroEntradas': 10752, 'Tempo': 0.0213558, 'TipoEntrada': 'Aleatória'}\n",
      "{'Algoritmo': 'SelectionSort2', 'NumeroEntradas': 12907, 'Tempo': 0.0309968, 'TipoEntrada': 'Aleatória'}\n",
      "{'Algoritmo': 'SelectionSort2', 'NumeroEntradas': 15495, 'Tempo': 0.0438649, 'TipoEntrada': 'Aleatória'}\n",
      "{'Algoritmo': 'SelectionSort2', 'NumeroEntradas': 18601, 'Tempo': 0.0629014, 'TipoEntrada': 'Aleatória'}\n",
      "{'Algoritmo': 'SelectionSort2', 'NumeroEntradas': 22330, 'Tempo': 0.0911301, 'TipoEntrada': 'Aleatória'}\n",
      "{'Algoritmo': 'SelectionSort2', 'NumeroEntradas': 26806, 'Tempo': 0.1300263, 'TipoEntrada': 'Aleatória'}\n",
      "{'Algoritmo': 'SelectionSort2', 'NumeroEntradas': 32179, 'Tempo': 0.1867867, 'TipoEntrada': 'Aleatória'}\n",
      "{'Algoritmo': 'SelectionSort2', 'NumeroEntradas': 38629, 'Tempo': 0.2868457, 'TipoEntrada': 'Aleatória'}\n",
      "{'Algoritmo': 'SelectionSort2', 'NumeroEntradas': 46373, 'Tempo': 0.3957728, 'TipoEntrada': 'Aleatória'}\n",
      "{'Algoritmo': 'SelectionSort2', 'NumeroEntradas': 55668, 'Tempo': 0.5652043, 'TipoEntrada': 'Aleatória'}\n",
      "{'Algoritmo': 'SelectionSort2', 'NumeroEntradas': 66827, 'Tempo': 0.8267465, 'TipoEntrada': 'Aleatória'}\n",
      "{'Algoritmo': 'SelectionSort2', 'NumeroEntradas': 80223, 'Tempo': 1.1885498, 'TipoEntrada': 'Aleatória'}\n",
      "{'Algoritmo': 'SelectionSort2', 'NumeroEntradas': 96304, 'Tempo': 1.7430307, 'TipoEntrada': 'Aleatória'}\n",
      "{'Algoritmo': 'SelectionSort2', 'NumeroEntradas': 115609, 'Tempo': 2.4103915000000002, 'TipoEntrada': 'Aleatória'}\n",
      "{'Algoritmo': 'SelectionSort2', 'NumeroEntradas': 138784, 'Tempo': 3.5749152, 'TipoEntrada': 'Aleatória'}\n"
     ]
    },
    {
     "ename": "KeyboardInterrupt",
     "evalue": "",
     "output_type": "error",
     "traceback": [
      "\u001b[31m---------------------------------------------------------------------------\u001b[39m",
      "\u001b[31mKeyboardInterrupt\u001b[39m                         Traceback (most recent call last)",
      "\u001b[36mCell\u001b[39m\u001b[36m \u001b[39m\u001b[32mIn[70]\u001b[39m\u001b[32m, line 7\u001b[39m\n\u001b[32m      4\u001b[39m \u001b[38;5;28;01mfor\u001b[39;00m j, seq_value \u001b[38;5;129;01min\u001b[39;00m \u001b[38;5;28menumerate\u001b[39m(sequencia):\n\u001b[32m      5\u001b[39m     copia = array[:seq_value].copy()\n\u001b[32m----> \u001b[39m\u001b[32m7\u001b[39m     tempo_demorado = \u001b[43malg\u001b[49m\u001b[43m.\u001b[49m\u001b[43mrun_sort_function\u001b[49m\u001b[43m(\u001b[49m\u001b[43mcopia\u001b[49m\u001b[43m,\u001b[49m\u001b[43m \u001b[49m\u001b[43msort_algorithm\u001b[49m\u001b[43m=\u001b[49m\u001b[43malgoritmo_ordenacao\u001b[49m\u001b[43m)\u001b[49m\n\u001b[32m      9\u001b[39m     nova_iteracao = {\n\u001b[32m     10\u001b[39m                         \u001b[33m\"\u001b[39m\u001b[33mAlgoritmo\u001b[39m\u001b[33m\"\u001b[39m: \u001b[33mf\u001b[39m\u001b[33m\"\u001b[39m\u001b[38;5;132;01m{\u001b[39;00mnome_algoritmo\u001b[38;5;132;01m}\u001b[39;00m\u001b[38;5;132;01m{\u001b[39;00mi\u001b[38;5;250m \u001b[39m+\u001b[38;5;250m \u001b[39m\u001b[32m1\u001b[39m\u001b[38;5;132;01m}\u001b[39;00m\u001b[33m\"\u001b[39m,\n\u001b[32m     11\u001b[39m                         \u001b[33m\"\u001b[39m\u001b[33mNumeroEntradas\u001b[39m\u001b[33m\"\u001b[39m: seq_value,\n\u001b[32m     12\u001b[39m                         \u001b[33m\"\u001b[39m\u001b[33mTempo\u001b[39m\u001b[33m\"\u001b[39m: tempo_demorado,\n\u001b[32m     13\u001b[39m                         \u001b[33m\"\u001b[39m\u001b[33mTipoEntrada\u001b[39m\u001b[33m\"\u001b[39m: tipo_entrada\n\u001b[32m     14\u001b[39m                     }\n\u001b[32m     16\u001b[39m     novos_tempos.append(nova_iteracao)\n",
      "\u001b[36mFile \u001b[39m\u001b[32md:\\UNESP\\PAA\\Trabalho\\Sorting-Algorithms-Analysis\\relatorio\\sorting_algorithms.py:155\u001b[39m, in \u001b[36mSorting_Algorithms.__wrapper_functions__.<locals>.wrapper\u001b[39m\u001b[34m(array, ini, fim, sort_algorithm)\u001b[39m\n\u001b[32m    151\u001b[39m     lib_sort_algorithm = \u001b[38;5;28mgetattr\u001b[39m(\u001b[38;5;28mself\u001b[39m.lib, sort_algorithm.\u001b[34m__name__\u001b[39m)\n\u001b[32m    153\u001b[39m     callback = \u001b[38;5;28mself\u001b[39m.SORT_FUNC(lib_sort_algorithm)\n\u001b[32m--> \u001b[39m\u001b[32m155\u001b[39m     \u001b[38;5;28;01mreturn\u001b[39;00m \u001b[38;5;28mfloat\u001b[39m(\u001b[43mfunction\u001b[49m\u001b[43m(\u001b[49m\u001b[43mcallback\u001b[49m\u001b[43m,\u001b[49m\u001b[43m \u001b[49m\u001b[43marray_pointer\u001b[49m\u001b[43m,\u001b[49m\u001b[43m \u001b[49m\u001b[43mini\u001b[49m\u001b[43m,\u001b[49m\u001b[43m \u001b[49m\u001b[43mfim\u001b[49m\u001b[43m)\u001b[49m)\n\u001b[32m    156\u001b[39m \u001b[38;5;28;01melse\u001b[39;00m:\n\u001b[32m    157\u001b[39m     function(array_pointer, ini, fim)\n",
      "\u001b[31mKeyboardInterrupt\u001b[39m: "
     ]
    }
   ],
   "source": [
    "novos_tempos = []\n",
    "\n",
    "for i, array in enumerate(array_final):\n",
    "    for j, seq_value in enumerate(sequencia):\n",
    "        copia = array[:seq_value].copy()\n",
    "        \n",
    "        tempo_demorado = alg.run_sort_function(copia, sort_algorithm=algoritmo_ordenacao)\n",
    "\n",
    "        nova_iteracao = {\n",
    "                            \"Algoritmo\": f\"{nome_algoritmo}{i + 1}\",\n",
    "                            \"NumeroEntradas\": seq_value,\n",
    "                            \"Tempo\": tempo_demorado,\n",
    "                            \"TipoEntrada\": tipo_entrada\n",
    "                        }\n",
    "\n",
    "        novos_tempos.append(nova_iteracao)\n",
    "        \n",
    "        print(nova_iteracao)\n",
    "\n",
    "novo_algoritmo = pd.DataFrame(novos_tempos)\n",
    "\n",
    "df = pd.concat([df, novo_algoritmo], ignore_index=True)\n",
    "df"
   ]
  },
  {
   "cell_type": "markdown",
   "id": "cf378fcf",
   "metadata": {},
   "source": [
    "# Gráficos"
   ]
  },
  {
   "cell_type": "code",
   "execution_count": 44,
   "id": "3d298b65",
   "metadata": {},
   "outputs": [],
   "source": [
    "import re\n",
    "\n",
    "\n",
    "def extrair_prefixo(nome):\n",
    "    match = re.match(r\"[A-Za-z]+\", nome)\n",
    "    return match.group(0) if match else nome"
   ]
  },
  {
   "cell_type": "code",
   "execution_count": 73,
   "id": "d61a2c9d",
   "metadata": {},
   "outputs": [
    {
     "data": {
      "text/plain": [
       "<Figure size 1000x600 with 0 Axes>"
      ]
     },
     "execution_count": 73,
     "metadata": {},
     "output_type": "execute_result"
    },
    {
     "data": {
      "text/plain": [
       "<Figure size 1000x600 with 0 Axes>"
      ]
     },
     "metadata": {},
     "output_type": "display_data"
    }
   ],
   "source": [
    "# Cria uma nova coluna com o prefixo\n",
    "df_grafico = df.copy()\n",
    "\n",
    "df_grafico['Grupo'] = df['Algoritmo'].apply(extrair_prefixo)\n",
    "\n",
    "# Tempo em microsegundos\n",
    "df_grafico['Tempo_us'] = df['Tempo'] * 1e6\n",
    "\n",
    "# Calcula a média do tempo para cada grupo e número de entradas\n",
    "df_stats = (\n",
    "    df_grafico.groupby(['Grupo', 'NumeroEntradas'], as_index=False)['Tempo_us']\n",
    "        .agg(['mean', 'std'])\n",
    "        .reset_index()\n",
    "        .rename(columns={'mean': 'TempoMedio', 'std': 'DesvioPadrao'})\n",
    ")\n",
    "\n",
    "# Plotando\n",
    "plt.figure(figsize=(10,6))"
   ]
  },
  {
   "cell_type": "markdown",
   "id": "b94cf4ab",
   "metadata": {},
   "source": [
    "## Organizando os grupos"
   ]
  },
  {
   "cell_type": "code",
   "execution_count": 74,
   "id": "e04a1ea8",
   "metadata": {},
   "outputs": [],
   "source": [
    "def label_grupo(nome_grupo: str):\n",
    "    label = nome_grupo\n",
    "\n",
    "    if nome_grupo == \"QuickSort\":\n",
    "        label = \"Quick Sort (Pivô Início)\"\n",
    "    elif nome_grupo == \"CentralQuickSort\":\n",
    "        label = \"Quick Sort (Pivô Central)\"\n",
    "    \n",
    "    return label"
   ]
  },
  {
   "cell_type": "code",
   "execution_count": 75,
   "id": "1f65fb8d",
   "metadata": {},
   "outputs": [
    {
     "data": {
      "image/png": "[encoded data removed]",
      "text/plain": [
       "<Figure size 640x480 with 1 Axes>"
      ]
     },
     "metadata": {},
     "output_type": "display_data"
    }
   ],
   "source": [
    "grupos = df_stats['Grupo'].unique()\n",
    "\n",
    "for grupo in grupos:\n",
    "    df_grupo = df_stats[df_stats['Grupo'] == grupo]\n",
    "    plt.plot(df_grupo['NumeroEntradas'], df_grupo['TempoMedio'], '-o', label=label_grupo(grupo))\n",
    "    plt.fill_between(\n",
    "        df_grupo['NumeroEntradas'],\n",
    "        df_grupo['TempoMedio'] - df_grupo['DesvioPadrao'],\n",
    "        df_grupo['TempoMedio'] + df_grupo['DesvioPadrao'],\n",
    "        alpha=0.2\n",
    "    )\n",
    "\n",
    "plt.title('Análise dos Algoritmos de Ordenação (Médias por Grupo)')\n",
    "plt.xlabel('Número de Entradas')\n",
    "plt.ylabel('Tempo Médio (µs)')\n",
    "plt.legend(title='Grupo de Algoritmo')\n",
    "\n",
    "limite_superior = (\n",
    "    df_stats[df_stats['Grupo'].isin(['MergeSort', 'HeapSort','QuickSort', 'CentralQuickSort'])]\n",
    "    ['TempoMedio'].max() * 5.0  # adiciona 500% de folga visual\n",
    "    )\n",
    "\n",
    "plt.ylim(0, limite_superior)\n",
    "plt.grid(True)\n",
    "plt.show()\n"
   ]
  },
  {
   "cell_type": "markdown",
   "id": "081f5053",
   "metadata": {},
   "source": [
    "# (Opcional) Salvar Dados"
   ]
  },
  {
   "cell_type": "code",
   "execution_count": 86,
   "id": "ba3d9946",
   "metadata": {},
   "outputs": [
    {
     "data": {
      "text/plain": [
       "array(['BubbleSort', 'MergeSort', 'QuickSort', 'HeapSort',\n",
       "       'CentralQuickSort'], dtype=object)"
      ]
     },
     "execution_count": 86,
     "metadata": {},
     "output_type": "execute_result"
    }
   ],
   "source": [
    "path_csv_final = \"./testes_ordenacao.csv\"\n",
    "\n",
    "df['Algoritmo'].apply(extrair_prefixo).unique()"
   ]
  },
  {
   "cell_type": "code",
   "execution_count": null,
   "id": "67b44724",
   "metadata": {},
   "outputs": [],
   "source": [
    "df.to_csv(path_csv_final, index=False)"
   ]
  }
 ],
 "metadata": {
  "kernelspec": {
   "display_name": ".venv",
   "language": "python",
   "name": "python3"
  },
  "language_info": {
   "codemirror_mode": {
    "name": "ipython",
    "version": 3
   },
   "file_extension": ".py",
   "mimetype": "text/x-python",
   "name": "python",
   "nbconvert_exporter": "python",
   "pygments_lexer": "ipython3",
   "version": "3.14.0"
  }
 },
 "nbformat": 4,
 "nbformat_minor": 5
}
